{
  "nbformat": 4,
  "nbformat_minor": 0,
  "metadata": {
    "colab": {
      "provenance": [],
      "authorship_tag": "ABX9TyPodBAbfudp2twTkUfTlsUQ",
      "include_colab_link": true
    },
    "kernelspec": {
      "name": "python3",
      "display_name": "Python 3"
    },
    "language_info": {
      "name": "python"
    }
  },
  "cells": [
    {
      "cell_type": "markdown",
      "metadata": {
        "id": "view-in-github",
        "colab_type": "text"
      },
      "source": [
        "<a href=\"https://colab.research.google.com/github/aman40399/AIML/blob/main/numpy%26array.ipynb\" target=\"_parent\"><img src=\"https://colab.research.google.com/assets/colab-badge.svg\" alt=\"Open In Colab\"/></a>"
      ]
    },
    {
      "cell_type": "markdown",
      "source": [
        "# numpy\n",
        "NumPy (Numerical Python) is an open source Python library . The NumPy library contains multidimensional array data structures, such as the homogeneous, N-dimensional ndarray, and a large library of functions that operate efficiently on these data structures"
      ],
      "metadata": {
        "id": "s1T6FPJJJWq1"
      }
    },
    {
      "cell_type": "markdown",
      "source": [
        "python arrays /containers are heterogenious mean they can store any int var char any type of variable but numoy shines in homogenous data to be processed on the cpu"
      ],
      "metadata": {
        "id": "JXdXiptkKFos"
      }
    },
    {
      "cell_type": "markdown",
      "source": [
        "some restrictions\n",
        "Most NumPy arrays have some restrictions. For instance:\n",
        "\n",
        "    All elements of the array must be of the same type of data.\n",
        "\n",
        "    Once created, the total size of the array can’t change.\n",
        "\n",
        "    The shape must be “rectangular”, not “jagged”; e.g., each row of a two-dimensional array must have the same number of columns.\n",
        "\n"
      ],
      "metadata": {
        "id": "WCbPf1BTKlnT"
      }
    },
    {
      "cell_type": "code",
      "execution_count": null,
      "metadata": {
        "id": "p8NOb1zIIEID"
      },
      "outputs": [],
      "source": [
        "import numpy as np"
      ]
    },
    {
      "cell_type": "code",
      "source": [
        "#manual array genration\n",
        "a=np.array([[111],[222],[333],[444]])\n",
        "a\n"
      ],
      "metadata": {
        "colab": {
          "base_uri": "https://localhost:8080/"
        },
        "id": "yfu7rLFIME_K",
        "outputId": "a471f21f-480c-4dbf-c0c6-2e379dc83ea1"
      },
      "execution_count": null,
      "outputs": [
        {
          "output_type": "execute_result",
          "data": {
            "text/plain": [
              "array([[111],\n",
              "       [222],\n",
              "       [333],\n",
              "       [444]])"
            ]
          },
          "metadata": {},
          "execution_count": 24
        }
      ]
    },
    {
      "cell_type": "markdown",
      "source": [
        "#  Array Attributes"
      ],
      "metadata": {
        "id": "cj3hYQP-M2xd"
      }
    },
    {
      "cell_type": "markdown",
      "source": [
        "his section covers the ndim, shape, size, and dtype attributes of an array."
      ],
      "metadata": {
        "id": "Tzm7VvEwM0f2"
      }
    },
    {
      "cell_type": "markdown",
      "source": [
        "to check number of dimesion present in array"
      ],
      "metadata": {
        "id": "j6adn7rhNKEc"
      }
    },
    {
      "cell_type": "code",
      "source": [
        "a.ndim"
      ],
      "metadata": {
        "colab": {
          "base_uri": "https://localhost:8080/"
        },
        "id": "Ib6gV-DcMq3O",
        "outputId": "682faa4b-d73a-4008-d558-4073475d70f0"
      },
      "execution_count": null,
      "outputs": [
        {
          "output_type": "execute_result",
          "data": {
            "text/plain": [
              "2"
            ]
          },
          "metadata": {},
          "execution_count": 25
        }
      ]
    },
    {
      "cell_type": "markdown",
      "source": [],
      "metadata": {
        "id": "mEzLd1w2JYFd"
      }
    },
    {
      "cell_type": "markdown",
      "source": [
        "inoder to check the shape of your array : or : rows & columns"
      ],
      "metadata": {
        "id": "7VWuD286NSoF"
      }
    },
    {
      "cell_type": "code",
      "source": [
        "a.shape"
      ],
      "metadata": {
        "colab": {
          "base_uri": "https://localhost:8080/"
        },
        "id": "wFll3otWNQWQ",
        "outputId": "bf2b4d5a-76db-4e51-e398-65fe3fa82516"
      },
      "execution_count": null,
      "outputs": [
        {
          "output_type": "execute_result",
          "data": {
            "text/plain": [
              "(4, 1)"
            ]
          },
          "metadata": {},
          "execution_count": 26
        }
      ]
    },
    {
      "cell_type": "code",
      "source": [
        "# len of give result bu a.shape which is (5,1) is same as a.ndim\n",
        "len(a.shape)==a.ndim\n",
        "\n",
        "\n",
        "\n"
      ],
      "metadata": {
        "colab": {
          "base_uri": "https://localhost:8080/"
        },
        "id": "98xy5-usPB9m",
        "outputId": "5fc1b004-4a84-475e-d90d-09a0e0b069be"
      },
      "execution_count": null,
      "outputs": [
        {
          "output_type": "execute_result",
          "data": {
            "text/plain": [
              "True"
            ]
          },
          "metadata": {},
          "execution_count": 27
        }
      ]
    },
    {
      "cell_type": "markdown",
      "source": [
        "he fixed, total number of elements in array is contained in the size attribute"
      ],
      "metadata": {
        "id": "FX81aCRQoK1H"
      }
    },
    {
      "cell_type": "code",
      "source": [
        "a.size"
      ],
      "metadata": {
        "colab": {
          "base_uri": "https://localhost:8080/"
        },
        "id": "z4ELRg_PoKHe",
        "outputId": "63ca584b-c5fb-440e-8ffc-08c7ddf90750"
      },
      "execution_count": null,
      "outputs": [
        {
          "output_type": "execute_result",
          "data": {
            "text/plain": [
              "4"
            ]
          },
          "metadata": {},
          "execution_count": 28
        }
      ]
    },
    {
      "cell_type": "markdown",
      "source": [],
      "metadata": {
        "id": "MhVk4MOpoJ61"
      }
    },
    {
      "cell_type": "markdown",
      "source": [
        "inorder to find the type of data type in narray"
      ],
      "metadata": {
        "id": "oiUyPsX7oN2i"
      }
    },
    {
      "cell_type": "code",
      "source": [
        "a.dtype\n",
        "\n",
        "# NOTE\n",
        "# dtype can also be used  to specify value of your array\n",
        "np.array([1,2,3,4],dtype=float)"
      ],
      "metadata": {
        "colab": {
          "base_uri": "https://localhost:8080/"
        },
        "id": "gjztFzpcPDcg",
        "outputId": "3da8cbd2-9afc-4cca-a7f4-017bf19514db"
      },
      "execution_count": null,
      "outputs": [
        {
          "output_type": "execute_result",
          "data": {
            "text/plain": [
              "array([1., 2., 3., 4.])"
            ]
          },
          "metadata": {},
          "execution_count": 64
        }
      ]
    },
    {
      "cell_type": "markdown",
      "source": [
        "to find the number of elements inside the narray"
      ],
      "metadata": {
        "id": "bF0iR58yoiNx"
      }
    },
    {
      "cell_type": "markdown",
      "source": [
        "to find the"
      ],
      "metadata": {
        "id": "gshd-ygDoerF"
      }
    },
    {
      "cell_type": "code",
      "source": [
        "a.size"
      ],
      "metadata": {
        "id": "rKdDhSyPPIDm",
        "colab": {
          "base_uri": "https://localhost:8080/"
        },
        "outputId": "0ac7e401-5990-4b7c-a296-433e02142e96"
      },
      "execution_count": null,
      "outputs": [
        {
          "output_type": "execute_result",
          "data": {
            "text/plain": [
              "5"
            ]
          },
          "metadata": {},
          "execution_count": 14
        }
      ]
    },
    {
      "cell_type": "markdown",
      "source": [
        "# How to create a basic array\n",
        "\n",
        "This section covers np.zeros(), np.ones(), np.empty(), np.arange(), np.linspace()"
      ],
      "metadata": {
        "id": "eyOh7xlKosTL"
      }
    },
    {
      "cell_type": "markdown",
      "source": [
        "Besides creating an array from a sequence of elements, you can easily create an array filled with 0’s"
      ],
      "metadata": {
        "id": "7h4pjCKco4sM"
      }
    },
    {
      "cell_type": "code",
      "source": [
        "# auotgenration\n",
        "np.zeros(2)"
      ],
      "metadata": {
        "colab": {
          "base_uri": "https://localhost:8080/"
        },
        "id": "sYU_F8P4o3Oj",
        "outputId": "1506c472-4c45-41cb-bc4d-ecbc3942a9a8"
      },
      "execution_count": null,
      "outputs": [
        {
          "output_type": "execute_result",
          "data": {
            "text/plain": [
              "array([0., 0.])"
            ]
          },
          "metadata": {},
          "execution_count": 32
        }
      ]
    },
    {
      "cell_type": "code",
      "source": [
        "# filled with ones (autogenration)\n",
        "np.ones(3)"
      ],
      "metadata": {
        "colab": {
          "base_uri": "https://localhost:8080/"
        },
        "id": "wMl9RFhXnzvq",
        "outputId": "c7beb3d9-612e-4a97-90b7-696c4dd5a0af"
      },
      "execution_count": null,
      "outputs": [
        {
          "output_type": "execute_result",
          "data": {
            "text/plain": [
              "array([1., 1., 1.])"
            ]
          },
          "metadata": {},
          "execution_count": 34
        }
      ]
    },
    {
      "cell_type": "code",
      "source": [
        "# USING EMPTY (autogenration)\n",
        "#empty is used to create an narray of random value existing in memonry only reason we use this is to make an narray faster then any bc you dont have to genrate the values , it not empty as name suggested\n",
        "np.empty(2)"
      ],
      "metadata": {
        "colab": {
          "base_uri": "https://localhost:8080/"
        },
        "id": "TVsh15WApKo9",
        "outputId": "0f9d26dc-53a6-4dce-dc33-db22e9069855"
      },
      "execution_count": null,
      "outputs": [
        {
          "output_type": "execute_result",
          "data": {
            "text/plain": [
              "array([1., 1.])"
            ]
          },
          "metadata": {},
          "execution_count": 41
        }
      ]
    },
    {
      "cell_type": "code",
      "source": [
        "# can create an array with a range of elements (autogenration):\n",
        "np.arange(12)\n",
        "\n",
        "\n",
        "# also can define the array autogenrated  by using parameters\n",
        "#np,arange(first number, last number, and the step size.)\n",
        "np.arange(2,9,2)"
      ],
      "metadata": {
        "colab": {
          "base_uri": "https://localhost:8080/"
        },
        "id": "5l6FATn-p0cG",
        "outputId": "6b3d8043-a4fe-478b-80e4-a40975d74f5b"
      },
      "execution_count": null,
      "outputs": [
        {
          "output_type": "execute_result",
          "data": {
            "text/plain": [
              "array([2, 4, 6, 8])"
            ]
          },
          "metadata": {},
          "execution_count": 46
        }
      ]
    },
    {
      "cell_type": "code",
      "source": [
        "#linespace : use to create a linearly spaced array (autogenration)\n",
        "np.linspace(0,100,101)"
      ],
      "metadata": {
        "colab": {
          "base_uri": "https://localhost:8080/"
        },
        "id": "3dQWhx1dpqV3",
        "outputId": "4fbb89b4-0e6f-426a-bfdd-9b7846fdb4f3"
      },
      "execution_count": null,
      "outputs": [
        {
          "output_type": "execute_result",
          "data": {
            "text/plain": [
              "array([  0.,   1.,   2.,   3.,   4.,   5.,   6.,   7.,   8.,   9.,  10.,\n",
              "        11.,  12.,  13.,  14.,  15.,  16.,  17.,  18.,  19.,  20.,  21.,\n",
              "        22.,  23.,  24.,  25.,  26.,  27.,  28.,  29.,  30.,  31.,  32.,\n",
              "        33.,  34.,  35.,  36.,  37.,  38.,  39.,  40.,  41.,  42.,  43.,\n",
              "        44.,  45.,  46.,  47.,  48.,  49.,  50.,  51.,  52.,  53.,  54.,\n",
              "        55.,  56.,  57.,  58.,  59.,  60.,  61.,  62.,  63.,  64.,  65.,\n",
              "        66.,  67.,  68.,  69.,  70.,  71.,  72.,  73.,  74.,  75.,  76.,\n",
              "        77.,  78.,  79.,  80.,  81.,  82.,  83.,  84.,  85.,  86.,  87.,\n",
              "        88.,  89.,  90.,  91.,  92.,  93.,  94.,  95.,  96.,  97.,  98.,\n",
              "        99., 100.])"
            ]
          },
          "metadata": {},
          "execution_count": 63
        }
      ]
    },
    {
      "cell_type": "markdown",
      "source": [
        "# adding removing sorting elements"
      ],
      "metadata": {
        "id": "KXb5PunuEl3u"
      }
    },
    {
      "cell_type": "code",
      "source": [
        "# np.argsort()\n",
        "\n",
        "# Returns indices that would sort an array.\n",
        "# Example:\n",
        "\n",
        "arr = np.array([10, 5, 30])\n",
        "indices = np.argsort(arr)\n",
        "# Output: [1, 0, 2]\n",
        "# Explanation: arr[1]=5, arr[0]=10, arr[2]=30 → sorted order.\n",
        "\n",
        "# Use when: You want to sort indirectly (e.g., reorder another array the same way).\n",
        "\n",
        "\n",
        "\n"
      ],
      "metadata": {
        "colab": {
          "base_uri": "https://localhost:8080/"
        },
        "id": "ALKf1pzyCJiE",
        "outputId": "0a9befc9-c756-4219-935a-e9558cf315bd"
      },
      "execution_count": null,
      "outputs": [
        {
          "output_type": "execute_result",
          "data": {
            "text/plain": [
              "array([1, 2, 6, 7, 9])"
            ]
          },
          "metadata": {},
          "execution_count": 67
        }
      ]
    },
    {
      "cell_type": "code",
      "source": [
        "# 🔠 np.lexsort()\n",
        "\n",
        "# Performs a stable sort using multiple keys (from last to first key).\n",
        "# Example:\n",
        "\n",
        "names = np.array(['John', 'Jane', 'John', 'Jane'])\n",
        "ages = np.array([25, 30, 20, 25])\n",
        "indices = np.lexsort((ages, names))\n",
        "# Sort by name, then age.\n",
        "# Use when: You need multi-level sorting, like by name and then age."
      ],
      "metadata": {
        "id": "mAzE3ldFFhBL"
      },
      "execution_count": null,
      "outputs": []
    },
    {
      "cell_type": "code",
      "source": [
        "# 🔍 np.searchsorted()\n",
        "\n",
        "# Finds indices where elements should be inserted in a sorted array to maintain order.\n",
        "# Example:\n",
        "\n",
        "arr = np.array([10, 20, 30, 40])\n",
        "np.searchsorted(arr, 25)\n",
        "# Output: 2 (25 should go before 30)\n",
        "\n",
        "# Use when: You're inserting into a sorted array or doing binary search-like tasks."
      ],
      "metadata": {
        "colab": {
          "base_uri": "https://localhost:8080/"
        },
        "id": "digwaz5LFqcE",
        "outputId": "01c1fac0-ea40-4f0b-9cec-e9dcf47e2800"
      },
      "execution_count": null,
      "outputs": [
        {
          "output_type": "execute_result",
          "data": {
            "text/plain": [
              "np.int64(2)"
            ]
          },
          "metadata": {},
          "execution_count": 72
        }
      ]
    },
    {
      "cell_type": "code",
      "source": [
        "\n",
        "# ⚡ np.partition()\n",
        "\n",
        "# Performs a partial sort: places the kth smallest item in its correct position, with smaller ones before and larger ones after, but doesn't fully sort.\n",
        "# Example:\n",
        "\n",
        "arr = np.array([7, 2, 9, 1, 6])\n",
        "np.partition(arr, 2)\n",
        "# Output: [2, 1, 6, 9, 7] (3 smallest elements on left)"
      ],
      "metadata": {
        "colab": {
          "base_uri": "https://localhost:8080/"
        },
        "id": "C2pM4wWZFxkV",
        "outputId": "43cc622c-d749-477b-d0cf-18125264383d"
      },
      "execution_count": null,
      "outputs": [
        {
          "output_type": "execute_result",
          "data": {
            "text/plain": [
              "array([1, 2, 6, 7, 9])"
            ]
          },
          "metadata": {},
          "execution_count": 71
        }
      ]
    },
    {
      "cell_type": "code",
      "source": [
        "test check"
      ],
      "metadata": {
        "id": "xQirnCOyF0D_"
      },
      "execution_count": null,
      "outputs": []
    }
  ]
}